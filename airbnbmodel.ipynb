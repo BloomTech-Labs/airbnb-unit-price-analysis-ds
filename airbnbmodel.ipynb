{
 "cells": [
  {
   "cell_type": "markdown",
   "metadata": {},
   "source": [
    "# Imports and Display Options"
   ]
  },
  {
   "cell_type": "code",
   "execution_count": 1,
   "metadata": {},
   "outputs": [],
   "source": [
    "import pandas as pd\n",
    "from sklearn.preprocessing import OrdinalEncoder\n",
    "from sklearn.model_selection import train_test_split\n",
    "from sklearn.linear_model import LinearRegression\n",
    "import numpy as np"
   ]
  },
  {
   "cell_type": "code",
   "execution_count": 2,
   "metadata": {},
   "outputs": [],
   "source": [
    "pd.set_option('display.max_rows', 20000)\n",
    "pd.set_option('display.max_columns', 20000)"
   ]
  },
  {
   "cell_type": "markdown",
   "metadata": {},
   "source": [
    "# Dataframes"
   ]
  },
  {
   "cell_type": "code",
   "execution_count": 3,
   "metadata": {},
   "outputs": [
    {
     "name": "stderr",
     "output_type": "stream",
     "text": [
      "/Users/lambda_school_loaner_192/anaconda3/lib/python3.7/site-packages/IPython/core/interactiveshell.py:3057: DtypeWarning: Columns (43,94) have mixed types. Specify dtype option on import or set low_memory=False.\n",
      "  interactivity=interactivity, compiler=compiler, result=result)\n"
     ]
    }
   ],
   "source": [
    "df = pd.read_csv(\"listings.csv\")\n",
    "df2 = pd.read_csv(\"listings.csv.gz\")               "
   ]
  },
  {
   "cell_type": "code",
   "execution_count": 4,
   "metadata": {},
   "outputs": [],
   "source": [
    "#features used in model\n",
    "features = ['id', 'bedrooms', 'bathrooms', 'amenities', 'price']\n",
    "#model dataframe\n",
    "model_df = df2[features]\n",
    "#model data, remove empty amenities\n",
    "model_data = model_df[(model_df['amenities'] != '{}') & (model_df['bedrooms'] != 0) & (model_df['bathrooms'] != 0)]"
   ]
  },
  {
   "cell_type": "markdown",
   "metadata": {},
   "source": [
    "# Helper functions"
   ]
  },
  {
   "cell_type": "code",
   "execution_count": 23,
   "metadata": {},
   "outputs": [
    {
     "data": {
      "text/html": [
       "<div>\n",
       "<style scoped>\n",
       "    .dataframe tbody tr th:only-of-type {\n",
       "        vertical-align: middle;\n",
       "    }\n",
       "\n",
       "    .dataframe tbody tr th {\n",
       "        vertical-align: top;\n",
       "    }\n",
       "\n",
       "    .dataframe thead th {\n",
       "        text-align: right;\n",
       "    }\n",
       "</style>\n",
       "<table border=\"1\" class=\"dataframe\">\n",
       "  <thead>\n",
       "    <tr style=\"text-align: right;\">\n",
       "      <th></th>\n",
       "      <th>id</th>\n",
       "      <th>bedrooms</th>\n",
       "      <th>bathrooms</th>\n",
       "      <th>amenities</th>\n",
       "      <th>price</th>\n",
       "      <th>new_amenities</th>\n",
       "      <th>Groups</th>\n",
       "      <th>New_data</th>\n",
       "    </tr>\n",
       "  </thead>\n",
       "  <tbody>\n",
       "    <tr>\n",
       "      <th>0</th>\n",
       "      <td>6</td>\n",
       "      <td>3.0</td>\n",
       "      <td>2.0</td>\n",
       "      <td>{TV,Internet,Wifi,\"Air conditioning\",Kitchen,\"...</td>\n",
       "      <td>$295.00</td>\n",
       "      <td>[TV, Internet, Wifi, Air conditioning, Kitchen...</td>\n",
       "      <td>TV Wifi Air conditioning Kitchen Free parking ...</td>\n",
       "      <td>[TV, Wifi, Air conditioning, Kitchen, Free par...</td>\n",
       "    </tr>\n",
       "    <tr>\n",
       "      <th>1</th>\n",
       "      <td>5570</td>\n",
       "      <td>2.0</td>\n",
       "      <td>1.0</td>\n",
       "      <td>{TV,\"Cable TV\",Internet,Wifi,Kitchen,\"Free par...</td>\n",
       "      <td>$2,050.00</td>\n",
       "      <td>[TV, Cable TV, Internet, Wifi, Kitchen, Free p...</td>\n",
       "      <td>TV Wifi Kitchen Free parking on premises Heati...</td>\n",
       "      <td>[TV, Wifi, Kitchen, Free parking on premises, ...</td>\n",
       "    </tr>\n",
       "    <tr>\n",
       "      <th>2</th>\n",
       "      <td>38245</td>\n",
       "      <td>1.0</td>\n",
       "      <td>1.0</td>\n",
       "      <td>{TV,\"Cable TV\",Internet,Wifi,\"Air conditioning...</td>\n",
       "      <td>$75.00</td>\n",
       "      <td>[TV, Cable TV, Internet, Wifi, Air conditionin...</td>\n",
       "      <td>TV Wifi Air conditioning Heating Dryer Smoke d...</td>\n",
       "      <td>[TV, Wifi, Air conditioning, Heating, Dryer, S...</td>\n",
       "    </tr>\n",
       "    <tr>\n",
       "      <th>3</th>\n",
       "      <td>39516</td>\n",
       "      <td>1.0</td>\n",
       "      <td>1.0</td>\n",
       "      <td>{Internet,Wifi,Pool,Kitchen,\"Pets live on this...</td>\n",
       "      <td>$74.00</td>\n",
       "      <td>[Internet, Wifi, Pool, Kitchen, Pets live on t...</td>\n",
       "      <td>Wifi Kitchen Heating Smoke detector Carbon mon...</td>\n",
       "      <td>[Wifi, Kitchen, Heating, Smoke detector, Carbo...</td>\n",
       "    </tr>\n",
       "    <tr>\n",
       "      <th>4</th>\n",
       "      <td>52286</td>\n",
       "      <td>2.0</td>\n",
       "      <td>2.0</td>\n",
       "      <td>{TV,\"Cable TV\",Wifi,Kitchen,\"Free parking on p...</td>\n",
       "      <td>$550.00</td>\n",
       "      <td>[TV, Cable TV, Wifi, Kitchen, Free parking on ...</td>\n",
       "      <td>TV Wifi Kitchen Free parking on premises Washe...</td>\n",
       "      <td>[TV, Wifi, Kitchen, Free parking on premises, ...</td>\n",
       "    </tr>\n",
       "  </tbody>\n",
       "</table>\n",
       "</div>"
      ],
      "text/plain": [
       "      id  bedrooms  bathrooms  \\\n",
       "0      6       3.0        2.0   \n",
       "1   5570       2.0        1.0   \n",
       "2  38245       1.0        1.0   \n",
       "3  39516       1.0        1.0   \n",
       "4  52286       2.0        2.0   \n",
       "\n",
       "                                           amenities      price  \\\n",
       "0  {TV,Internet,Wifi,\"Air conditioning\",Kitchen,\"...    $295.00   \n",
       "1  {TV,\"Cable TV\",Internet,Wifi,Kitchen,\"Free par...  $2,050.00   \n",
       "2  {TV,\"Cable TV\",Internet,Wifi,\"Air conditioning...     $75.00   \n",
       "3  {Internet,Wifi,Pool,Kitchen,\"Pets live on this...     $74.00   \n",
       "4  {TV,\"Cable TV\",Wifi,Kitchen,\"Free parking on p...    $550.00   \n",
       "\n",
       "                                       new_amenities  \\\n",
       "0  [TV, Internet, Wifi, Air conditioning, Kitchen...   \n",
       "1  [TV, Cable TV, Internet, Wifi, Kitchen, Free p...   \n",
       "2  [TV, Cable TV, Internet, Wifi, Air conditionin...   \n",
       "3  [Internet, Wifi, Pool, Kitchen, Pets live on t...   \n",
       "4  [TV, Cable TV, Wifi, Kitchen, Free parking on ...   \n",
       "\n",
       "                                              Groups  \\\n",
       "0  TV Wifi Air conditioning Kitchen Free parking ...   \n",
       "1  TV Wifi Kitchen Free parking on premises Heati...   \n",
       "2  TV Wifi Air conditioning Heating Dryer Smoke d...   \n",
       "3  Wifi Kitchen Heating Smoke detector Carbon mon...   \n",
       "4  TV Wifi Kitchen Free parking on premises Washe...   \n",
       "\n",
       "                                            New_data  \n",
       "0  [TV, Wifi, Air conditioning, Kitchen, Free par...  \n",
       "1  [TV, Wifi, Kitchen, Free parking on premises, ...  \n",
       "2  [TV, Wifi, Air conditioning, Heating, Dryer, S...  \n",
       "3  [Wifi, Kitchen, Heating, Smoke detector, Carbo...  \n",
       "4  [TV, Wifi, Kitchen, Free parking on premises, ...  "
      ]
     },
     "execution_count": 23,
     "metadata": {},
     "output_type": "execute_result"
    }
   ],
   "source": [
    "model_data.head()"
   ]
  },
  {
   "cell_type": "markdown",
   "metadata": {},
   "source": [
    "### Function that changes the amenities data in the dataframe from json to a list"
   ]
  },
  {
   "cell_type": "code",
   "execution_count": 5,
   "metadata": {},
   "outputs": [],
   "source": [
    "def json_to_list(df):\n",
    "    new_data = []\n",
    "    data = df['amenities'].values\n",
    "    for num, amen in enumerate(data):\n",
    "        new_data.append([word.strip('\"') for word in amen.strip(\"{\").strip(\"}\").split(\",\")])\n",
    "    df['new_amenities'] = new_data\n",
    "    return df"
   ]
  },
  {
   "cell_type": "code",
   "execution_count": 6,
   "metadata": {},
   "outputs": [
    {
     "name": "stderr",
     "output_type": "stream",
     "text": [
      "/Users/lambda_school_loaner_192/anaconda3/lib/python3.7/site-packages/ipykernel_launcher.py:6: SettingWithCopyWarning: \n",
      "A value is trying to be set on a copy of a slice from a DataFrame.\n",
      "Try using .loc[row_indexer,col_indexer] = value instead\n",
      "\n",
      "See the caveats in the documentation: http://pandas.pydata.org/pandas-docs/stable/indexing.html#indexing-view-versus-copy\n",
      "  \n"
     ]
    }
   ],
   "source": [
    "model_data = json_to_list(model_data)"
   ]
  },
  {
   "cell_type": "markdown",
   "metadata": {},
   "source": [
    "### Function that figures out the unique amenities"
   ]
  },
  {
   "cell_type": "code",
   "execution_count": 7,
   "metadata": {},
   "outputs": [],
   "source": [
    "def unique_amenities(df, column):\n",
    "    uniques = []\n",
    "    for data in df[column]:\n",
    "        for d in data:\n",
    "            if d in uniques:\n",
    "                continue\n",
    "            else:\n",
    "                uniques.append(d)\n",
    "    return uniques"
   ]
  },
  {
   "cell_type": "code",
   "execution_count": 8,
   "metadata": {},
   "outputs": [],
   "source": [
    "amenities = unique_amenities(model_data, 'new_amenities')"
   ]
  },
  {
   "cell_type": "code",
   "execution_count": 11,
   "metadata": {
    "collapsed": true,
    "jupyter": {
     "outputs_hidden": true
    }
   },
   "outputs": [
    {
     "data": {
      "text/plain": [
       "['TV',\n",
       " 'Internet',\n",
       " 'Wifi',\n",
       " 'Air conditioning',\n",
       " 'Kitchen',\n",
       " 'Free parking on premises',\n",
       " 'Pets allowed',\n",
       " 'Free street parking',\n",
       " 'Heating',\n",
       " 'Family/kid friendly',\n",
       " 'Washer',\n",
       " 'Dryer',\n",
       " 'Smoke detector',\n",
       " 'Carbon monoxide detector',\n",
       " 'First aid kit',\n",
       " 'Fire extinguisher',\n",
       " 'Essentials',\n",
       " 'Shampoo',\n",
       " '24-hour check-in',\n",
       " 'Hangers',\n",
       " 'Hair dryer',\n",
       " 'Iron',\n",
       " 'Laptop friendly workspace',\n",
       " 'Baby monitor',\n",
       " 'Outlet covers',\n",
       " 'Bathtub',\n",
       " 'Changing table',\n",
       " 'High chair',\n",
       " 'Children’s books and toys',\n",
       " 'Babysitter recommendations',\n",
       " 'Crib',\n",
       " 'Children’s dinnerware',\n",
       " 'Hot water',\n",
       " 'Luggage dropoff allowed',\n",
       " 'Other',\n",
       " 'Cable TV',\n",
       " 'Elevator',\n",
       " 'Microwave',\n",
       " 'Coffee maker',\n",
       " 'Refrigerator',\n",
       " 'Dishwasher',\n",
       " 'Dishes and silverware',\n",
       " 'Cooking basics',\n",
       " 'Oven',\n",
       " 'Stove',\n",
       " 'BBQ grill',\n",
       " 'Patio or balcony',\n",
       " 'Long term stays allowed',\n",
       " 'Waterfront',\n",
       " 'Beachfront',\n",
       " 'Pets live on this property',\n",
       " 'translation missing: en.hosting_amenity_50',\n",
       " 'Self check-in',\n",
       " 'Keypad',\n",
       " 'Wide hallways',\n",
       " 'Well-lit path to entrance',\n",
       " 'Extra space around bed',\n",
       " 'Accessible-height bed',\n",
       " 'Accessible-height toilet',\n",
       " 'Pool',\n",
       " 'Dog(s)',\n",
       " 'Cat(s)',\n",
       " 'Safety card',\n",
       " 'EV charger',\n",
       " 'Garden or backyard',\n",
       " 'Beach essentials',\n",
       " 'Hot tub',\n",
       " 'Indoor fireplace',\n",
       " 'Lockbox',\n",
       " 'Breakfast',\n",
       " 'Lock on bedroom door',\n",
       " 'translation missing: en.hosting_amenity_49',\n",
       " 'Bed linens',\n",
       " 'Extra pillows and blankets',\n",
       " 'Host greets you',\n",
       " 'Private entrance',\n",
       " 'Buzzer/wireless intercom',\n",
       " 'Suitable for events',\n",
       " 'Gym',\n",
       " 'Single level home',\n",
       " 'Room-darkening shades',\n",
       " 'Smart lock',\n",
       " 'Wheelchair accessible',\n",
       " 'Stair gates',\n",
       " 'Pack ’n Play/travel crib',\n",
       " 'No stairs or steps to enter',\n",
       " 'Wide entrance for guests',\n",
       " 'Flat path to guest entrance',\n",
       " 'Wide entrance',\n",
       " 'Wide entryway',\n",
       " 'Wide doorway to guest bathroom',\n",
       " 'Smoking allowed',\n",
       " 'Handheld shower head',\n",
       " 'Ethernet connection',\n",
       " 'Disabled parking spot',\n",
       " 'Private living room',\n",
       " 'Baby bath',\n",
       " 'Game console',\n",
       " 'Fireplace guards',\n",
       " 'Doorman',\n",
       " 'Paid parking on premises',\n",
       " 'Cleaning before checkout',\n",
       " 'Other pet(s)',\n",
       " 'Lake access',\n",
       " 'Fixed grab bars for shower',\n",
       " 'Paid parking off premises',\n",
       " 'Private bathroom',\n",
       " 'Full kitchen',\n",
       " 'Fixed grab bars for toilet',\n",
       " 'Wide clearance to shower',\n",
       " ' toilet',\n",
       " 'Kitchenette',\n",
       " 'Hot water kettle',\n",
       " 'Pocket wifi',\n",
       " 'Shower chair',\n",
       " 'Building staff',\n",
       " 'Firm mattress',\n",
       " 'Bathtub with bath chair',\n",
       " 'Body soap',\n",
       " 'Bath towel',\n",
       " 'Toilet paper',\n",
       " 'Ceiling fan',\n",
       " 'Smart TV',\n",
       " 'DVD player',\n",
       " 'Beach view',\n",
       " 'Jetted tub',\n",
       " 'Balcony',\n",
       " 'Sound system',\n",
       " 'Breakfast table',\n",
       " 'Convection oven',\n",
       " 'Netflix',\n",
       " 'HBO GO',\n",
       " 'Amazon Echo',\n",
       " 'En suite bathroom',\n",
       " 'Soaking tub',\n",
       " 'Walk-in shower',\n",
       " 'Bedroom comforts',\n",
       " 'Bathroom essentials',\n",
       " 'Roll-in shower',\n",
       " 'Pool with pool hoist',\n",
       " 'Gas oven',\n",
       " 'Day bed',\n",
       " 'Private hot tub',\n",
       " 'Window guards',\n",
       " 'Table corner guards',\n",
       " 'Central air conditioning',\n",
       " 'Hammock',\n",
       " 'Terrace',\n",
       " 'Projector and screen',\n",
       " 'Fire pit',\n",
       " 'Printer',\n",
       " 'Espresso machine',\n",
       " 'Formal dining area',\n",
       " 'Sun loungers',\n",
       " 'Double oven',\n",
       " 'Memory foam mattress',\n",
       " 'Heat lamps',\n",
       " 'Outdoor seating',\n",
       " 'Outdoor parking',\n",
       " 'Rain shower',\n",
       " 'Pillow-top mattress',\n",
       " 'Ground floor access',\n",
       " 'Mountain view',\n",
       " 'Stand alone steam shower',\n",
       " 'Bidet',\n",
       " 'Tennis court',\n",
       " 'Sauna',\n",
       " 'Private pool',\n",
       " 'Warming drawer',\n",
       " 'Ski-in/Ski-out',\n",
       " 'Mini fridge',\n",
       " 'Outdoor kitchen',\n",
       " 'Pool toys',\n",
       " 'Electric profiling bed',\n",
       " 'Alfresco bathtub',\n",
       " 'Heated towel rack',\n",
       " 'Shared pool',\n",
       " 'Shared hot tub',\n",
       " 'Wine cooler',\n",
       " 'High-resolution computer monitor',\n",
       " 'Murphy bed',\n",
       " 'Standing valet',\n",
       " 'Touchless faucets',\n",
       " 'Heated floors',\n",
       " 'Air purifier',\n",
       " 'Garage parking',\n",
       " 'Alfresco shower',\n",
       " 'Breakfast bar',\n",
       " 'Ironing Board',\n",
       " 'Ice Machine',\n",
       " \"Chef's kitchen\",\n",
       " 'Dining area',\n",
       " 'Patio',\n",
       " 'Beach',\n",
       " 'Ceiling fans',\n",
       " 'Gas grill',\n",
       " 'Permit parking',\n",
       " 'Parking',\n",
       " 'Sun deck',\n",
       " 'Fax machine',\n",
       " 'Shared gym',\n",
       " 'Exercise equipment',\n",
       " 'Office',\n",
       " 'Security cameras',\n",
       " 'Hand or paper towel',\n",
       " 'Portable air conditioning',\n",
       " 'Dual vanity',\n",
       " 'Natural gas barbeque',\n",
       " 'Toaster',\n",
       " 'Lounge chairs']"
      ]
     },
     "execution_count": 11,
     "metadata": {},
     "output_type": "execute_result"
    }
   ],
   "source": [
    "amenities"
   ]
  },
  {
   "cell_type": "markdown",
   "metadata": {},
   "source": [
    "### Function that gathers the counts of every amenity"
   ]
  },
  {
   "cell_type": "code",
   "execution_count": 12,
   "metadata": {},
   "outputs": [],
   "source": [
    "def amen_counts(amen_lst, df, column):\n",
    "    counts = [0 for num in range(len(amen_lst))]\n",
    "    amen_data = df[column].values\n",
    "    for num, data in enumerate(amen_data):\n",
    "        for d in data:\n",
    "            num = amen_lst.index(d)\n",
    "            counts[num] += 1\n",
    "    return counts"
   ]
  },
  {
   "cell_type": "code",
   "execution_count": 13,
   "metadata": {},
   "outputs": [],
   "source": [
    "counts = amen_counts(amenities, model_data, 'new_amenities')"
   ]
  },
  {
   "cell_type": "markdown",
   "metadata": {},
   "source": [
    "### Function that returns top 20 amenities "
   ]
  },
  {
   "cell_type": "code",
   "execution_count": 14,
   "metadata": {},
   "outputs": [],
   "source": [
    "def top_20(counts):\n",
    "    largest = sorted(counts)[-20:]\n",
    "    count_indexes = []\n",
    "    for l in largest:\n",
    "        count_indexes.append(counts.index(l))\n",
    "        amens = []\n",
    "    for c in count_indexes:\n",
    "        amens.append(amenities[c])\n",
    "    return largest, amens      "
   ]
  },
  {
   "cell_type": "code",
   "execution_count": 15,
   "metadata": {},
   "outputs": [],
   "source": [
    "largest, top = top_20(counts)"
   ]
  },
  {
   "cell_type": "code",
   "execution_count": 16,
   "metadata": {},
   "outputs": [
    {
     "data": {
      "text/plain": [
       "([5562,\n",
       "  5810,\n",
       "  6656,\n",
       "  7070,\n",
       "  7308,\n",
       "  7945,\n",
       "  8500,\n",
       "  9066,\n",
       "  9229,\n",
       "  9287,\n",
       "  9365,\n",
       "  9566,\n",
       "  9797,\n",
       "  10114,\n",
       "  10176,\n",
       "  10499,\n",
       "  10811,\n",
       "  11084,\n",
       "  11289,\n",
       "  11560],\n",
       " ['Microwave',\n",
       "  'Refrigerator',\n",
       "  'Air conditioning',\n",
       "  'Fire extinguisher',\n",
       "  'Hot water',\n",
       "  'Free parking on premises',\n",
       "  'Laptop friendly workspace',\n",
       "  'Iron',\n",
       "  'Hair dryer',\n",
       "  'Dryer',\n",
       "  'Washer',\n",
       "  'Shampoo',\n",
       "  'Carbon monoxide detector',\n",
       "  'Hangers',\n",
       "  'Heating',\n",
       "  'TV',\n",
       "  'Kitchen',\n",
       "  'Smoke detector',\n",
       "  'Essentials',\n",
       "  'Wifi'])"
      ]
     },
     "execution_count": 16,
     "metadata": {},
     "output_type": "execute_result"
    }
   ],
   "source": [
    "largest, top"
   ]
  },
  {
   "cell_type": "markdown",
   "metadata": {},
   "source": [
    "### Function that create columns with only the top amenities"
   ]
  },
  {
   "cell_type": "code",
   "execution_count": 17,
   "metadata": {},
   "outputs": [],
   "source": [
    "def reduce_dimensions(df, column, top):\n",
    "    all_data = []\n",
    "    all_strings = []\n",
    "    amens = df[column].values\n",
    "    bedrooms = df['bedrooms'].values\n",
    "    bathrooms = df['bathrooms'].values\n",
    "    for num, data in enumerate(amens):\n",
    "        new_data = []\n",
    "        new_string = \"\"\n",
    "        for d in data:\n",
    "            if d in top:\n",
    "                new_data.append(d)\n",
    "                new_string += d + \" \"\n",
    "            else:\n",
    "                continue\n",
    "        new_string += str(bedrooms[num])\n",
    "        new_string += str(bathrooms[num])\n",
    "        all_data.append(new_data)\n",
    "        all_strings.append(new_string)\n",
    "    df['Groups'] = all_strings\n",
    "    df['New_data'] = all_data\n",
    "    return df"
   ]
  },
  {
   "cell_type": "code",
   "execution_count": 18,
   "metadata": {},
   "outputs": [
    {
     "name": "stderr",
     "output_type": "stream",
     "text": [
      "/Users/lambda_school_loaner_192/anaconda3/lib/python3.7/site-packages/ipykernel_launcher.py:20: SettingWithCopyWarning: \n",
      "A value is trying to be set on a copy of a slice from a DataFrame.\n",
      "Try using .loc[row_indexer,col_indexer] = value instead\n",
      "\n",
      "See the caveats in the documentation: http://pandas.pydata.org/pandas-docs/stable/indexing.html#indexing-view-versus-copy\n",
      "/Users/lambda_school_loaner_192/anaconda3/lib/python3.7/site-packages/ipykernel_launcher.py:21: SettingWithCopyWarning: \n",
      "A value is trying to be set on a copy of a slice from a DataFrame.\n",
      "Try using .loc[row_indexer,col_indexer] = value instead\n",
      "\n",
      "See the caveats in the documentation: http://pandas.pydata.org/pandas-docs/stable/indexing.html#indexing-view-versus-copy\n"
     ]
    }
   ],
   "source": [
    "model_data = reduce_dimensions(model_data, \"new_amenities\", top)"
   ]
  },
  {
   "cell_type": "code",
   "execution_count": 19,
   "metadata": {},
   "outputs": [],
   "source": [
    "model_data = model_data.dropna()"
   ]
  },
  {
   "cell_type": "markdown",
   "metadata": {},
   "source": [
    "### Grouping system"
   ]
  },
  {
   "cell_type": "code",
   "execution_count": 20,
   "metadata": {},
   "outputs": [],
   "source": [
    "encoder = OrdinalEncoder()"
   ]
  },
  {
   "cell_type": "code",
   "execution_count": 21,
   "metadata": {},
   "outputs": [],
   "source": [
    "groups = encoder.fit_transform(model_data[['Groups']].values)"
   ]
  },
  {
   "cell_type": "code",
   "execution_count": 22,
   "metadata": {},
   "outputs": [],
   "source": [
    "model_data['OrdinalGroups'] = groups"
   ]
  },
  {
   "cell_type": "code",
   "execution_count": 23,
   "metadata": {},
   "outputs": [],
   "source": [
    "def optimal_pricing(df):\n",
    "    groups = [word for word in df['OrdinalGroups'].values]\n",
    "    ids = [word for word in df['id'].values]\n",
    "    prices = [word for word in df['id'].values]\n",
    "    for g in groups:\n",
    "        data = []\n",
    "        max_df = df[df['OrdinalGroups'] == g]\n",
    "        max_price = max_df['price'].max()\n",
    "        group_ids = [word for word in max_df['id'].values]\n",
    "        indexes = []\n",
    "        for i in group_ids:\n",
    "            indexes.append(ids.index(i))\n",
    "        for index in indexes:\n",
    "            prices[index] = max_price\n",
    "    df['price'] = prices\n",
    "    return df"
   ]
  },
  {
   "cell_type": "code",
   "execution_count": 24,
   "metadata": {},
   "outputs": [],
   "source": [
    "df = optimal_pricing(model_data)"
   ]
  },
  {
   "cell_type": "code",
   "execution_count": 25,
   "metadata": {},
   "outputs": [],
   "source": [
    "def string_to_int(df, column):\n",
    "    new_data = []\n",
    "    data = df[column].values\n",
    "    for d in data:\n",
    "        d = d.strip(\"$\")\n",
    "        d = d.replace(\",\", \"\")\n",
    "        d = d.split(\".\")[0]\n",
    "        d = int(d)\n",
    "        new_data.append(d)\n",
    "    new_data = np.array(new_data)\n",
    "    df[column] = new_data\n",
    "    return df"
   ]
  },
  {
   "cell_type": "code",
   "execution_count": 26,
   "metadata": {},
   "outputs": [],
   "source": [
    "df = string_to_int(df, \"price\")"
   ]
  },
  {
   "cell_type": "code",
   "execution_count": 27,
   "metadata": {},
   "outputs": [],
   "source": [
    "def onehotencoder(df, column, amen_lst):\n",
    "    for amen in amen_lst:\n",
    "        new_data = []\n",
    "        data = df[column].values\n",
    "        for d in data:\n",
    "            if amen in d:\n",
    "                new_data.append(1)\n",
    "            else:\n",
    "                new_data.append(0)\n",
    "        new_data = np.array(new_data)\n",
    "        df[amen] = new_data\n",
    "    return df"
   ]
  },
  {
   "cell_type": "code",
   "execution_count": 28,
   "metadata": {},
   "outputs": [],
   "source": [
    "df = onehotencoder(df, \"New_data\",  top)"
   ]
  },
  {
   "cell_type": "markdown",
   "metadata": {},
   "source": [
    "# Model"
   ]
  },
  {
   "cell_type": "code",
   "execution_count": 29,
   "metadata": {},
   "outputs": [],
   "source": [
    "features = top + [\"bedrooms\", \"bathrooms\"]\n",
    "target = 'price'\n",
    "draft_features = df[features]\n",
    "draft_target = df[target]"
   ]
  },
  {
   "cell_type": "code",
   "execution_count": 30,
   "metadata": {},
   "outputs": [
    {
     "data": {
      "text/plain": [
       "((11769, 22), (11769,))"
      ]
     },
     "execution_count": 30,
     "metadata": {},
     "output_type": "execute_result"
    }
   ],
   "source": [
    "draft_features.shape, draft_target.shape"
   ]
  },
  {
   "cell_type": "code",
   "execution_count": 31,
   "metadata": {},
   "outputs": [],
   "source": [
    "X_train, X_test, y_train, y_test = train_test_split(draft_features, draft_target, train_size = .8, test_size = .2, random_state= 42)"
   ]
  },
  {
   "cell_type": "code",
   "execution_count": 32,
   "metadata": {},
   "outputs": [
    {
     "data": {
      "text/plain": [
       "((9415, 22), (9415,))"
      ]
     },
     "execution_count": 32,
     "metadata": {},
     "output_type": "execute_result"
    }
   ],
   "source": [
    "X_train.shape, y_train.shape"
   ]
  },
  {
   "cell_type": "code",
   "execution_count": 33,
   "metadata": {},
   "outputs": [
    {
     "data": {
      "text/plain": [
       "LinearRegression(copy_X=True, fit_intercept=True, n_jobs=None, normalize=False)"
      ]
     },
     "execution_count": 33,
     "metadata": {},
     "output_type": "execute_result"
    }
   ],
   "source": [
    "model = LinearRegression()\n",
    "model.fit(draft_features, draft_target)"
   ]
  },
  {
   "cell_type": "code",
   "execution_count": 34,
   "metadata": {},
   "outputs": [],
   "source": [
    "def model_coefs():\n",
    "    coefs = model.coef_\n",
    "    positive_c = []\n",
    "    negative_c = []\n",
    "    positive_f = []\n",
    "    negative_f = []\n",
    "    for num, coef in enumerate(coefs):\n",
    "        if coef > 0:\n",
    "            positive_c.append(coef)\n",
    "            positive_f.append(features[num])\n",
    "        else:\n",
    "            negative_c.append(coef)\n",
    "            negative_f.append(features[num])\n",
    "    print(\"Positives\")\n",
    "    for num, p in enumerate(positive_c):\n",
    "        print(f\"Feature: {positive_f[num]}, Coef: {p}\")\n",
    "    print(\"Negatives\")\n",
    "    for num, p in enumerate(negative_c):\n",
    "        print(f\"Feature: {negative_f[num]}, Coef: {p}\")\n",
    "    return"
   ]
  },
  {
   "cell_type": "code",
   "execution_count": 35,
   "metadata": {},
   "outputs": [
    {
     "name": "stdout",
     "output_type": "stream",
     "text": [
      "Positives\n",
      "Feature: Microwave, Coef: 14.47389031524099\n",
      "Feature: Air conditioning, Coef: 10.296484933707688\n",
      "Feature: Laptop friendly workspace, Coef: 2.0750380014746814\n",
      "Feature: Hair dryer, Coef: 13.723780472538975\n",
      "Feature: Washer, Coef: 61.38119855364762\n",
      "Feature: Carbon monoxide detector, Coef: 28.49524508031815\n",
      "Feature: Heating, Coef: 27.41358673641551\n",
      "Feature: TV, Coef: 7.588903608757145\n",
      "Feature: bedrooms, Coef: 128.0552528277956\n",
      "Feature: bathrooms, Coef: 69.79291458526092\n",
      "Negatives\n",
      "Feature: Refrigerator, Coef: -2.3677015298022166\n",
      "Feature: Fire extinguisher, Coef: -18.451445823887568\n",
      "Feature: Hot water, Coef: -39.27699999085979\n",
      "Feature: Free parking on premises, Coef: -24.863846517545678\n",
      "Feature: Iron, Coef: -4.120649524803768\n",
      "Feature: Dryer, Coef: -19.491921189397313\n",
      "Feature: Shampoo, Coef: -4.3133885983305555\n",
      "Feature: Hangers, Coef: -14.729056502341004\n",
      "Feature: Kitchen, Coef: -0.9808039146240726\n",
      "Feature: Smoke detector, Coef: -21.67907313358683\n",
      "Feature: Essentials, Coef: -6.601244412481703\n",
      "Feature: Wifi, Coef: -43.97867111825337\n"
     ]
    }
   ],
   "source": [
    "model_coefs()"
   ]
  },
  {
   "cell_type": "code",
   "execution_count": null,
   "metadata": {},
   "outputs": [],
   "source": []
  }
 ],
 "metadata": {
  "kernelspec": {
   "display_name": "Python 3",
   "language": "python",
   "name": "python3"
  },
  "language_info": {
   "codemirror_mode": {
    "name": "ipython",
    "version": 3
   },
   "file_extension": ".py",
   "mimetype": "text/x-python",
   "name": "python",
   "nbconvert_exporter": "python",
   "pygments_lexer": "ipython3",
   "version": "3.7.3"
  }
 },
 "nbformat": 4,
 "nbformat_minor": 4
}
